{
 "cells": [
  {
   "cell_type": "code",
   "execution_count": 3,
   "metadata": {},
   "outputs": [
    {
     "name": "stdout",
     "output_type": "stream",
     "text": [
      "Collecting imutilsNote: you may need to restart the kernel to use updated packages.\n",
      "  Downloading imutils-0.5.4.tar.gz (17 kB)\n",
      "Building wheels for collected packages: imutils\n",
      "  Building wheel for imutils (setup.py): started\n",
      "  Building wheel for imutils (setup.py): finished with status 'done'\n",
      "  Created wheel for imutils: filename=imutils-0.5.4-py3-none-any.whl size=25862 sha256=ac71e553dface5136a9e6e3a61a26452cd10d3f6f76ed6b445d271c054f807e1\n",
      "  Stored in directory: c:\\users\\abhis\\appdata\\local\\pip\\cache\\wheels\\59\\1b\\52\\0dea905f8278d5514dc4d0be5e251967f8681670cadd3dca89\n",
      "Successfully built imutils\n",
      "Installing collected packages: imutils\n",
      "Successfully installed imutils-0.5.4\n",
      "\n"
     ]
    }
   ],
   "source": [
    "pip install imutils"
   ]
  },
  {
   "cell_type": "code",
   "execution_count": 4,
   "metadata": {},
   "outputs": [],
   "source": [
    "import numpy as np\n",
    "import argparse\n",
    "import imutils\n",
    "import cv2"
   ]
  },
  {
   "cell_type": "code",
   "execution_count": null,
   "metadata": {},
   "outputs": [],
   "source": [
    "# ap = argparse.ArgumentParser()\n",
    "# ap.add_argument(\"-p\", \"--puzzle\", required = True,\n",
    "# help = \"Path to the puzzle image\")\n",
    "# ap.add_argument(\"-w\", \"--waldo\", required = True,\n",
    "# help = \"Path to the waldo image\")\n",
    "# args = vars(ap.parse_args())"
   ]
  },
  {
   "cell_type": "code",
   "execution_count": 20,
   "metadata": {},
   "outputs": [],
   "source": [
    "puzzle = cv2.imread('puzzle.JPG')\n",
    "waldo = cv2.imread('template.JPG')\n",
    "(waldoHeight, waldoWidth) = waldo.shape[:2]"
   ]
  },
  {
   "cell_type": "code",
   "execution_count": 21,
   "metadata": {},
   "outputs": [],
   "source": [
    "result = cv2.matchTemplate(puzzle, waldo, cv2.TM_CCOEFF)\n",
    "(_, _, minLoc, maxLoc) = cv2.minMaxLoc(result)"
   ]
  },
  {
   "cell_type": "code",
   "execution_count": 22,
   "metadata": {},
   "outputs": [
    {
     "name": "stdout",
     "output_type": "stream",
     "text": [
      "(97, 554)\n"
     ]
    }
   ],
   "source": [
    "print(maxLoc)"
   ]
  },
  {
   "cell_type": "code",
   "execution_count": 23,
   "metadata": {},
   "outputs": [],
   "source": [
    "# the puzzle image\n",
    "topLeft = maxLoc\n",
    "botRight = (topLeft[0] + waldoWidth, topLeft[1] + waldoHeight)\n",
    "roi = puzzle[topLeft[1]:botRight[1], topLeft[0]:botRight[0]]\n",
    "# construct a darkened transparent 'layer' to darken everything\n",
    "# in the puzzle except for waldo\n",
    "mask = np.zeros(puzzle.shape, dtype = \"uint8\")\n",
    "puzzle = cv2.addWeighted(puzzle, 0.25, mask, 0.75, 0)"
   ]
  },
  {
   "cell_type": "code",
   "execution_count": 25,
   "metadata": {},
   "outputs": [
    {
     "data": {
      "text/plain": [
       "-1"
      ]
     },
     "execution_count": 25,
     "metadata": {},
     "output_type": "execute_result"
    }
   ],
   "source": [
    "# put the original waldo back in the image so that he is\n",
    "# 'brighter' than the rest of the image\n",
    "puzzle[topLeft[1]:botRight[1], topLeft[0]:botRight[0]] = roi\n",
    "# display the images\n",
    "cv2.imshow(\"Puzzle\", imutils.resize(puzzle, height = 650))\n",
    "cv2.imshow(\"Waldo\", waldo)\n",
    "cv2.waitKey(0)"
   ]
  },
  {
   "cell_type": "code",
   "execution_count": null,
   "metadata": {},
   "outputs": [],
   "source": []
  }
 ],
 "metadata": {
  "kernelspec": {
   "display_name": "Python 3",
   "language": "python",
   "name": "python3"
  },
  "language_info": {
   "codemirror_mode": {
    "name": "ipython",
    "version": 3
   },
   "file_extension": ".py",
   "mimetype": "text/x-python",
   "name": "python",
   "nbconvert_exporter": "python",
   "pygments_lexer": "ipython3",
   "version": "3.8.5"
  }
 },
 "nbformat": 4,
 "nbformat_minor": 4
}
