{
 "cells": [
  {
   "cell_type": "code",
   "execution_count": 1,
   "id": "initial_id",
   "metadata": {
    "collapsed": true,
    "ExecuteTime": {
     "end_time": "2023-12-01T15:53:15.198660400Z",
     "start_time": "2023-12-01T15:53:12.336412200Z"
    }
   },
   "outputs": [],
   "source": [
    "import time\n",
    "\n",
    "# Import our methods\n",
    "from waldo_matt.gradients.gradients import run_gradient\n",
    "from waldo_abhishek.edgeDetector import run_edge_detector\n",
    "from waldo_sooyoung.template_matching import run_template_matching\n",
    "from waldo_sooyoung.waldo_neural_network import run_neural_network\n",
    "from accuracy_calculator import calculate_waldo_accuracy"
   ]
  },
  {
   "cell_type": "code",
   "execution_count": 2,
   "outputs": [],
   "source": [
    "def gradient_test(ind):\n",
    "    start_time = time.time()\n",
    "    waldo = run_gradient(f\"testdata/images/test_{ind}.jpg\", ind)\n",
    "    end_time = time.time()\n",
    "    \n",
    "    accuracy = calculate_waldo_accuracy(waldo, ind)\n",
    "    \n",
    "    return (end_time - start_time, accuracy)"
   ],
   "metadata": {
    "collapsed": false,
    "ExecuteTime": {
     "end_time": "2023-12-01T15:53:15.212974200Z",
     "start_time": "2023-12-01T15:53:15.201890300Z"
    }
   },
   "id": "544d4182956e026c"
  },
  {
   "cell_type": "code",
   "execution_count": 3,
   "outputs": [],
   "source": [
    "def edge_detection_test(ind):\n",
    "    start_time = time.time()\n",
    "    waldo = run_edge_detector(f'testdata/images/test_{ind}.jpg', ind)\n",
    "    end_time = time.time()\n",
    "    \n",
    "    accuracy = calculate_waldo_accuracy(waldo, ind)\n",
    "    \n",
    "    return (end_time - start_time, accuracy)"
   ],
   "metadata": {
    "collapsed": false,
    "ExecuteTime": {
     "end_time": "2023-12-01T15:53:15.232501800Z",
     "start_time": "2023-12-01T15:53:15.216490300Z"
    }
   },
   "id": "6438d4e0bc1e5cb8"
  },
  {
   "cell_type": "code",
   "execution_count": 4,
   "outputs": [],
   "source": [
    "def template_matching_test(ind):\n",
    "    start_time = time.time()\n",
    "    waldo = run_template_matching(f'testdata/images/test_{ind}.jpg', ['templates'], ind)\n",
    "    end_time = time.time()\n",
    "    \n",
    "    accuracy = calculate_waldo_accuracy(waldo, ind)\n",
    "    \n",
    "    return (end_time - start_time, accuracy)"
   ],
   "metadata": {
    "collapsed": false,
    "ExecuteTime": {
     "end_time": "2023-12-01T15:53:15.246538700Z",
     "start_time": "2023-12-01T15:53:15.232501800Z"
    }
   },
   "id": "1eb64bb04d8d4754"
  },
  {
   "cell_type": "code",
   "execution_count": 5,
   "outputs": [],
   "source": [
    "def neural_network_test(ind):\n",
    "    start_time = time.time()\n",
    "    waldo = run_neural_network(ind)\n",
    "    end_time = time.time()\n",
    "    \n",
    "    accuracy = calculate_waldo_accuracy(waldo, ind)\n",
    "    \n",
    "    return (end_time - start_time, accuracy)"
   ],
   "metadata": {
    "collapsed": false,
    "ExecuteTime": {
     "end_time": "2023-12-01T15:53:15.264574Z",
     "start_time": "2023-12-01T15:53:15.247538800Z"
    }
   },
   "id": "9769dfc5aab0bee1"
  },
  {
   "cell_type": "code",
   "execution_count": 7,
   "outputs": [
    {
     "name": "stdout",
     "output_type": "stream",
     "text": [
      "Testing image 1\n",
      "Testing image 2\n",
      "Testing image 3\n",
      "Testing image 4\n",
      "Testing image 5\n",
      "########################################################\n",
      "Gradient average time: 40.20353569984436\n",
      "Edge detection average time: 1.3128135204315186\n",
      "Template matching average time: 24.012997579574584\n",
      "Neural Network average time: 0.33613080978393556\n",
      "########################################################\n",
      "Histogram of Gradients accuracy: 0.0\n",
      "Edge Detection accuracy: 0.0\n",
      "Template matching accuracy: 0.6\n",
      "Neural Network accuracy: 1.0\n"
     ]
    }
   ],
   "source": [
    "g_time, ed_time, tm_time, nn_time = 0, 0, 0, 0\n",
    "g_acc, ed_acc, tm_acc, nn_acc = 0, 0, 0, 0\n",
    "test_total = 5\n",
    "\n",
    "for i in range(1, test_total + 1):\n",
    "    print(f\"Testing image {i}\")\n",
    "    g_result = gradient_test(i)\n",
    "    ed_result = edge_detection_test(i)\n",
    "    tm_result = template_matching_test(i)\n",
    "    nn_result = neural_network_test(i)\n",
    "    \n",
    "    g_time += g_result[0]\n",
    "    g_acc += g_result[1]\n",
    "    ed_time += ed_result[0]\n",
    "    ed_acc += ed_result[1]\n",
    "    tm_time += tm_result[0]\n",
    "    tm_acc += tm_result[1]\n",
    "    nn_time += nn_result[0]\n",
    "    nn_acc += nn_result[1]\n",
    "\n",
    "print('########################################################')\n",
    "print(f'Gradient average time: {g_time / test_total}')\n",
    "print(f'Edge detection average time: {ed_time / test_total}')\n",
    "print(f'Template matching average time: {tm_time / test_total}')\n",
    "print(f'Neural Network average time: {nn_time / test_total}')\n",
    "print('########################################################')\n",
    "print(f'Histogram of Gradients accuracy: {g_acc / test_total}')\n",
    "print(f'Edge Detection accuracy: {ed_acc / test_total}')\n",
    "print(f'Template matching accuracy: {tm_acc / test_total}')\n",
    "print(f'Neural Network accuracy: {nn_acc / test_total}')\n"
   ],
   "metadata": {
    "collapsed": false,
    "ExecuteTime": {
     "end_time": "2023-12-01T16:00:57.921504400Z",
     "start_time": "2023-12-01T15:55:28.251794300Z"
    }
   },
   "id": "31b07f951135a511"
  },
  {
   "cell_type": "code",
   "execution_count": 6,
   "outputs": [],
   "source": [],
   "metadata": {
    "collapsed": false,
    "ExecuteTime": {
     "end_time": "2023-12-01T15:37:13.889508800Z",
     "start_time": "2023-12-01T15:37:13.871974600Z"
    }
   },
   "id": "3a49535ff88eccc8"
  }
 ],
 "metadata": {
  "kernelspec": {
   "display_name": "Python 3",
   "language": "python",
   "name": "python3"
  },
  "language_info": {
   "codemirror_mode": {
    "name": "ipython",
    "version": 2
   },
   "file_extension": ".py",
   "mimetype": "text/x-python",
   "name": "python",
   "nbconvert_exporter": "python",
   "pygments_lexer": "ipython2",
   "version": "2.7.6"
  }
 },
 "nbformat": 4,
 "nbformat_minor": 5
}
