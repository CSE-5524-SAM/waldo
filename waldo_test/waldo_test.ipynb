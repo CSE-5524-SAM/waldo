{
 "cells": [
  {
   "cell_type": "code",
   "execution_count": 2,
   "id": "initial_id",
   "metadata": {
    "collapsed": true,
    "ExecuteTime": {
     "end_time": "2023-11-27T22:57:55.742636100Z",
     "start_time": "2023-11-27T22:57:51.908248800Z"
    }
   },
   "outputs": [],
   "source": [
    "import time\n",
    "import cv2\n",
    "from ultralytics import YOLO\n",
    "from waldo_matt.gradients.gradients import run_gradient\n",
    "from waldo_abhishek.edgeDetector import run_edge_detector\n",
    "from waldo_sooyoung.template_matching import run_template_matching"
   ]
  },
  {
   "cell_type": "code",
   "execution_count": 3,
   "outputs": [],
   "source": [
    "def gradient_test(ind):\n",
    "    start_time = time.time()\n",
    "    run_gradient(f\"testdata/test_{ind}.jpg\", ind)\n",
    "    end_time = time.time()\n",
    "    \n",
    "    return end_time - start_time"
   ],
   "metadata": {
    "collapsed": false,
    "ExecuteTime": {
     "end_time": "2023-11-27T22:57:56.551586700Z",
     "start_time": "2023-11-27T22:57:56.539121600Z"
    }
   },
   "id": "544d4182956e026c"
  },
  {
   "cell_type": "code",
   "execution_count": 4,
   "outputs": [],
   "source": [
    "def edge_detection_test(ind):\n",
    "    start_time = time.time()\n",
    "    run_edge_detector(f'testdata/test_{ind}.jpg', ind)\n",
    "    end_time = time.time()\n",
    "    \n",
    "    return end_time - start_time"
   ],
   "metadata": {
    "collapsed": false,
    "ExecuteTime": {
     "end_time": "2023-11-27T22:57:57.265513300Z",
     "start_time": "2023-11-27T22:57:57.245422Z"
    }
   },
   "id": "6438d4e0bc1e5cb8"
  },
  {
   "cell_type": "code",
   "execution_count": 5,
   "outputs": [],
   "source": [
    "def template_matching_test(ind):\n",
    "    start_time = time.time()\n",
    "    run_template_matching(f'testdata/test_{ind}.jpg', ['testdata/waldo_data_1/train', \n",
    "                                                  'testdata/waldo_data_3/train'], ind)\n",
    "    end_time = time.time()\n",
    "    \n",
    "    return end_time - start_time"
   ],
   "metadata": {
    "collapsed": false,
    "ExecuteTime": {
     "end_time": "2023-11-27T22:57:57.924183Z",
     "start_time": "2023-11-27T22:57:57.916069200Z"
    }
   },
   "id": "1eb64bb04d8d4754"
  },
  {
   "cell_type": "code",
   "execution_count": 8,
   "outputs": [],
   "source": [
    "def machine_learning_test(ind):\n",
    "    start_time = time.time()\n",
    "    model = YOLO('waldo_ml.pt')\n",
    "    pred_result = model(f'testdata/test_{ind}.jpg')\n",
    "    bbox = []\n",
    "    for r in pred_result:\n",
    "        bbox = r.boxes.xyxy[0]\n",
    "        \n",
    "    image = cv2.imread(f'testdata/test_{ind}.jpg')\n",
    "    #cv2.rectangle(image, (int(bbox[0]), int(bbox[1])), (int(bbox[2]), int(bbox[3])), (0,255,0), 2)\n",
    "    blur = cv2.GaussianBlur(image, (31,31), 0)\n",
    "    min_x = int(bbox[0])\n",
    "    min_y = int(bbox[1])\n",
    "    max_x = int(bbox[2])\n",
    "    max_y = int(bbox[3])\n",
    "    xl = (max_x - min_x) // 2\n",
    "    yl = (max_y - min_y) // 2\n",
    "    min_x = min_x - xl\n",
    "    min_y = min_y - yl\n",
    "    max_x = max_x + xl\n",
    "    max_y = max_y + yl\n",
    "    \n",
    "    blur[min_y:max_y, min_x:max_x] = image[min_y:max_y, min_x:max_x]\n",
    "    cv2.rectangle(blur, (min_x, min_y), (max_x, max_y), (0,255,0), 2)\n",
    "    cv2.imwrite(f'result/ml/ml_result_{ind}.jpg', blur)\n",
    "    end_time = time.time()\n",
    "    return end_time - start_time"
   ],
   "metadata": {
    "collapsed": false,
    "ExecuteTime": {
     "end_time": "2023-11-27T22:58:27.261047200Z",
     "start_time": "2023-11-27T22:58:27.197167700Z"
    }
   },
   "id": "9769dfc5aab0bee1"
  },
  {
   "cell_type": "code",
   "execution_count": 9,
   "outputs": [
    {
     "name": "stdout",
     "output_type": "stream",
     "text": [
      "image 1/1 C:\\Users\\jeons\\PycharmProjects\\waldo\\waldo_test\\testdata\\test_1.jpg: 544x640 1 waldo, 121.9ms\n",
      "Speed: 3.5ms preprocess, 121.9ms inference, 8.5ms postprocess per image at shape (1, 3, 544, 640)\n",
      "image 1/1 C:\\Users\\jeons\\PycharmProjects\\waldo\\waldo_test\\testdata\\test_2.jpg: 512x640 1 waldo, 139.7ms\n",
      "Speed: 0.0ms preprocess, 139.7ms inference, 0.0ms postprocess per image at shape (1, 3, 512, 640)\n",
      "image 1/1 C:\\Users\\jeons\\PycharmProjects\\waldo\\waldo_test\\testdata\\test_3.jpg: 448x640 2 waldos, 123.4ms\n",
      "Speed: 0.0ms preprocess, 123.4ms inference, 0.0ms postprocess per image at shape (1, 3, 448, 640)\n",
      "image 1/1 C:\\Users\\jeons\\PycharmProjects\\waldo\\waldo_test\\testdata\\test_4.jpg: 416x640 1 waldo, 116.7ms\n",
      "Speed: 10.6ms preprocess, 116.7ms inference, 1.0ms postprocess per image at shape (1, 3, 416, 640)\n",
      "image 1/1 C:\\Users\\jeons\\PycharmProjects\\waldo\\waldo_test\\testdata\\test_5.jpg: 480x640 1 waldo, 128.4ms\n",
      "Speed: 1.5ms preprocess, 128.4ms inference, 0.0ms postprocess per image at shape (1, 3, 480, 640)\n",
      "image 1/1 C:\\Users\\jeons\\PycharmProjects\\waldo\\waldo_test\\testdata\\test_6.jpg: 640x448 1 waldo, 143.2ms\n",
      "Speed: 1.4ms preprocess, 143.2ms inference, 6.5ms postprocess per image at shape (1, 3, 640, 448)\n",
      "image 1/1 C:\\Users\\jeons\\PycharmProjects\\waldo\\waldo_test\\testdata\\test_7.jpg: 480x640 1 waldo, 91.2ms\n",
      "Speed: 6.5ms preprocess, 91.2ms inference, 8.2ms postprocess per image at shape (1, 3, 480, 640)\n",
      "Gradient average time: 0.0\n",
      "Edge detection average time: 0.0\n",
      "Template matching average time: 0.0\n",
      "ML average time: 2.162496498652867\n"
     ]
    }
   ],
   "source": [
    "gradient_time = 0\n",
    "edge_detection_time = 0\n",
    "template_matching_time = 0\n",
    "ml_time = 0\n",
    "test_total = 7\n",
    "\n",
    "for i in range(1, test_total + 1):\n",
    "    gradient_time += gradient_test(i)\n",
    "    edge_detection_time += edge_detection_test(i)\n",
    "    template_matching_time += template_matching_test(i)\n",
    "    ml_time += machine_learning_test(i)\n",
    "\n",
    "print(f'Gradient average time: {gradient_time / test_total}')\n",
    "print(f'Edge detection average time: {edge_detection_time / test_total}')\n",
    "print(f'Template matching average time: {template_matching_time / test_total}')\n",
    "print(f'ML average time: {ml_time / test_total}')"
   ],
   "metadata": {
    "collapsed": false,
    "ExecuteTime": {
     "end_time": "2023-11-27T22:58:43.071888100Z",
     "start_time": "2023-11-27T22:58:27.907856600Z"
    }
   },
   "id": "31b07f951135a511"
  },
  {
   "cell_type": "code",
   "execution_count": null,
   "outputs": [],
   "source": [],
   "metadata": {
    "collapsed": false
   },
   "id": "3a49535ff88eccc8"
  }
 ],
 "metadata": {
  "kernelspec": {
   "display_name": "Python 3",
   "language": "python",
   "name": "python3"
  },
  "language_info": {
   "codemirror_mode": {
    "name": "ipython",
    "version": 2
   },
   "file_extension": ".py",
   "mimetype": "text/x-python",
   "name": "python",
   "nbconvert_exporter": "python",
   "pygments_lexer": "ipython2",
   "version": "2.7.6"
  }
 },
 "nbformat": 4,
 "nbformat_minor": 5
}
