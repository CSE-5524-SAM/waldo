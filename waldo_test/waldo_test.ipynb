{
 "cells": [
  {
   "cell_type": "code",
   "execution_count": 1,
   "id": "initial_id",
   "metadata": {
    "collapsed": true,
    "ExecuteTime": {
     "end_time": "2023-12-01T18:39:39.031005800Z",
     "start_time": "2023-12-01T18:39:32.829021300Z"
    }
   },
   "outputs": [],
   "source": [
    "import time\n",
    "\n",
    "# Import our methods\n",
    "from waldo_matt.gradients.gradients import run_gradient\n",
    "from waldo_abhishek.edgeDetector import run_edge_detector\n",
    "from waldo_sooyoung.template_matching import run_template_matching\n",
    "from waldo_sooyoung.waldo_neural_network import run_neural_network\n",
    "from result_methods import calculate_waldo_accuracy, draw_final_image, show_result"
   ]
  },
  {
   "cell_type": "code",
   "execution_count": 2,
   "outputs": [],
   "source": [
    "def gradient_test(ind):\n",
    "    start_time = time.time()\n",
    "    waldo = run_gradient(f\"testdata/images/test_{ind}.jpg\", ind)\n",
    "    end_time = time.time()\n",
    "    \n",
    "    return (end_time - start_time, waldo)"
   ],
   "metadata": {
    "collapsed": false,
    "ExecuteTime": {
     "end_time": "2023-12-01T16:42:45.511634900Z",
     "start_time": "2023-12-01T16:42:45.497543100Z"
    }
   },
   "id": "544d4182956e026c"
  },
  {
   "cell_type": "code",
   "execution_count": 3,
   "outputs": [],
   "source": [
    "def edge_detection_test(ind):\n",
    "    start_time = time.time()\n",
    "    waldo = run_edge_detector(f'testdata/images/test_{ind}.jpg', ind)\n",
    "    end_time = time.time()\n",
    "    \n",
    "    return (end_time - start_time, waldo)"
   ],
   "metadata": {
    "collapsed": false,
    "ExecuteTime": {
     "end_time": "2023-12-01T16:42:45.530142600Z",
     "start_time": "2023-12-01T16:42:45.512632800Z"
    }
   },
   "id": "6438d4e0bc1e5cb8"
  },
  {
   "cell_type": "code",
   "execution_count": 4,
   "outputs": [],
   "source": [
    "def template_matching_test(ind):\n",
    "    start_time = time.time()\n",
    "    waldo = run_template_matching(f'testdata/images/test_{ind}.jpg', ['templates'], ind)\n",
    "    end_time = time.time()\n",
    "    \n",
    "    return (end_time - start_time, waldo)"
   ],
   "metadata": {
    "collapsed": false,
    "ExecuteTime": {
     "end_time": "2023-12-01T16:42:45.542657300Z",
     "start_time": "2023-12-01T16:42:45.528141100Z"
    }
   },
   "id": "1eb64bb04d8d4754"
  },
  {
   "cell_type": "code",
   "execution_count": 5,
   "outputs": [],
   "source": [
    "def neural_network_test(ind):\n",
    "    start_time = time.time()\n",
    "    waldo = run_neural_network(ind)\n",
    "    end_time = time.time()\n",
    "    \n",
    "    return (end_time - start_time, waldo)"
   ],
   "metadata": {
    "collapsed": false,
    "ExecuteTime": {
     "end_time": "2023-12-01T16:42:45.561676300Z",
     "start_time": "2023-12-01T16:42:45.544655100Z"
    }
   },
   "id": "9769dfc5aab0bee1"
  },
  {
   "cell_type": "code",
   "execution_count": 6,
   "outputs": [
    {
     "name": "stdout",
     "output_type": "stream",
     "text": [
      "Testing image 1\n",
      "(1379, 114, 1463, 299)\n",
      "(728, 1186, 751, 1233)\n",
      "None\n",
      "(293, 1057, 317, 1085)\n",
      "Testing image 2\n",
      "(142, 399, 226, 584)\n",
      "(941, 74, 953, 121)\n",
      "(883, 332, 904, 352)\n",
      "(884, 333, 904, 355)\n",
      "Testing image 3\n",
      "(47, 292, 131, 477)\n",
      "(2035, 803, 2047, 850)\n",
      "None\n",
      "(200, 1163, 229, 1200)\n",
      "Testing image 4\n",
      "(242, 188, 326, 373)\n",
      "(3, 571, 26, 618)\n",
      "(120, 426, 134, 443)\n",
      "(119, 426, 134, 444)\n",
      "Testing image 5\n",
      "(1, 125, 85, 310)\n",
      "(1218, 823, 1241, 870)\n",
      "(491, 202, 528, 234)\n",
      "(489, 202, 525, 235)\n",
      "########################################################\n",
      "Gradient average time: 39.731686210632326\n",
      "Edge detection average time: 1.3052298545837402\n",
      "Template matching average time: 23.679604482650756\n",
      "Neural Network average time: 0.52963285446167\n",
      "########################################################\n",
      "Histogram of Gradients accuracy: 0.0\n",
      "Edge Detection accuracy: 0.0\n",
      "Template matching accuracy: 0.6\n",
      "Neural Network accuracy: 1.0\n"
     ]
    }
   ],
   "source": [
    "test_total = 5\n",
    "\n",
    "results = []\n",
    "for i in range(1, test_total + 1):\n",
    "    print(f\"Testing image {i}\")\n",
    "    g_result = gradient_test(i)\n",
    "    ed_result = edge_detection_test(i)\n",
    "    tm_result = template_matching_test(i)\n",
    "    nn_result = neural_network_test(i)\n",
    "    results.append((g_result, ed_result, tm_result, nn_result))\n",
    "    \n",
    "show_result(results)\n",
    "\n",
    "print('########################################################')\n",
    "print(f'Gradient average time: {g_time / test_total}')\n",
    "print(f'Edge detection average time: {ed_time / test_total}')\n",
    "print(f'Template matching average time: {tm_time / test_total}')\n",
    "print(f'Neural Network average time: {nn_time / test_total}')\n",
    "print('########################################################')\n",
    "print(f'Histogram of Gradients accuracy: {g_acc / test_total}')\n",
    "print(f'Edge Detection accuracy: {ed_acc / test_total}')\n",
    "print(f'Template matching accuracy: {tm_acc / test_total}')\n",
    "print(f'Neural Network accuracy: {nn_acc / test_total}')\n"
   ],
   "metadata": {
    "collapsed": false,
    "ExecuteTime": {
     "end_time": "2023-12-01T16:48:12.102152600Z",
     "start_time": "2023-12-01T16:42:45.558675600Z"
    }
   },
   "id": "31b07f951135a511"
  }
 ],
 "metadata": {
  "kernelspec": {
   "display_name": "Python 3",
   "language": "python",
   "name": "python3"
  },
  "language_info": {
   "codemirror_mode": {
    "name": "ipython",
    "version": 2
   },
   "file_extension": ".py",
   "mimetype": "text/x-python",
   "name": "python",
   "nbconvert_exporter": "python",
   "pygments_lexer": "ipython2",
   "version": "2.7.6"
  }
 },
 "nbformat": 4,
 "nbformat_minor": 5
}
