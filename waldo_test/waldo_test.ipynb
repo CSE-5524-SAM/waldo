{
 "cells": [
  {
   "cell_type": "code",
   "execution_count": 4,
   "id": "initial_id",
   "metadata": {
    "collapsed": true,
    "ExecuteTime": {
     "end_time": "2023-11-27T18:26:01.493020300Z",
     "start_time": "2023-11-27T18:26:01.488022300Z"
    }
   },
   "outputs": [],
   "source": [
    "import time\n",
    "from waldo_matt.gradients.gradients import run_gradient\n",
    "from waldo_abhishek.edgeDetector import run_edge_detector\n",
    "from waldo_sooyoung.template_matching import run_template_matching"
   ]
  },
  {
   "cell_type": "code",
   "execution_count": 5,
   "outputs": [],
   "source": [
    "def gradient_test(ind):\n",
    "    start_time = time.time()\n",
    "    run_gradient(f\"testdata/test_{ind}.jpg\", ind)\n",
    "    end_time = time.time()\n",
    "    \n",
    "    return end_time - start_time"
   ],
   "metadata": {
    "collapsed": false,
    "ExecuteTime": {
     "end_time": "2023-11-27T18:26:02.165538600Z",
     "start_time": "2023-11-27T18:26:02.147536400Z"
    }
   },
   "id": "544d4182956e026c"
  },
  {
   "cell_type": "code",
   "execution_count": 6,
   "outputs": [],
   "source": [
    "def edge_detection_test(ind):\n",
    "    start_time = time.time()\n",
    "    run_edge_detector(f'testdata/test_{ind}.jpg', ind)\n",
    "    end_time = time.time()\n",
    "    \n",
    "    return end_time - start_time"
   ],
   "metadata": {
    "collapsed": false,
    "ExecuteTime": {
     "end_time": "2023-11-27T18:26:02.706187700Z",
     "start_time": "2023-11-27T18:26:02.702186Z"
    }
   },
   "id": "6438d4e0bc1e5cb8"
  },
  {
   "cell_type": "code",
   "execution_count": 7,
   "outputs": [],
   "source": [
    "def template_matching_test(ind):\n",
    "    start_time = time.time()\n",
    "    run_template_matching(f'testdata/test_{ind}.jpg', ['testdata/waldo_data_1/train', \n",
    "                                                  'testdata/waldo_data_3/train'], ind)\n",
    "    end_time = time.time()\n",
    "    \n",
    "    return end_time - start_time"
   ],
   "metadata": {
    "collapsed": false,
    "ExecuteTime": {
     "end_time": "2023-11-27T18:26:03.320407800Z",
     "start_time": "2023-11-27T18:26:03.303260900Z"
    }
   },
   "id": "1eb64bb04d8d4754"
  },
  {
   "cell_type": "code",
   "execution_count": 10,
   "outputs": [
    {
     "name": "stdout",
     "output_type": "stream",
     "text": [
      "Gradient average time: 36.30194893479347\n",
      "Edge detection average time: 1.1662790477275848\n",
      "Template matching average time: 21.970262080430984\n"
     ]
    }
   ],
   "source": [
    "gradient_time = 0\n",
    "edge_detection_time = 0\n",
    "template_matching_time = 0\n",
    "test_total = 7\n",
    "\n",
    "for i in range(1, test_total + 1):\n",
    "    gradient_time += gradient_test(i)\n",
    "    edge_detection_time += edge_detection_test(i)\n",
    "    template_matching_time += template_matching_test(i)\n",
    "\n",
    "print(f'Gradient average time: {gradient_time / test_total}')\n",
    "print(f'Edge detection average time: {edge_detection_time / test_total}')\n",
    "print(f'Template matching average time: {template_matching_time / test_total}')"
   ],
   "metadata": {
    "collapsed": false,
    "ExecuteTime": {
     "end_time": "2023-11-27T18:38:58.329484400Z",
     "start_time": "2023-11-27T18:31:02.810568900Z"
    }
   },
   "id": "31b07f951135a511"
  },
  {
   "cell_type": "code",
   "execution_count": null,
   "outputs": [],
   "source": [],
   "metadata": {
    "collapsed": false
   },
   "id": "3a49535ff88eccc8"
  }
 ],
 "metadata": {
  "kernelspec": {
   "display_name": "Python 3",
   "language": "python",
   "name": "python3"
  },
  "language_info": {
   "codemirror_mode": {
    "name": "ipython",
    "version": 2
   },
   "file_extension": ".py",
   "mimetype": "text/x-python",
   "name": "python",
   "nbconvert_exporter": "python",
   "pygments_lexer": "ipython2",
   "version": "2.7.6"
  }
 },
 "nbformat": 4,
 "nbformat_minor": 5
}
